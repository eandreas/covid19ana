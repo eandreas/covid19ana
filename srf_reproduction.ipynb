{
 "cells": [
  {
   "cell_type": "code",
   "execution_count": null,
   "metadata": {},
   "outputs": [],
   "source": [
    "from tools import *\n",
    "from datetime import datetime, timedelta"
   ]
  },
  {
   "cell_type": "markdown",
   "metadata": {},
   "source": [
    "## Laden der BAG-Daten"
   ]
  },
  {
   "cell_type": "code",
   "execution_count": null,
   "metadata": {},
   "outputs": [
    {
     "name": "stdout",
     "output_type": "stream",
     "text": [
      "/Users/eandreas/projects/dev/covid-19/bag_data_download/downloads/cases_data/2020-10-23_13-00_Dashboards_1&2_COVID19_swiss_data_pv.xlsx\n",
      "/Users/eandreas/projects/dev/covid-19/bag_data_download/downloads/cases_data/2020-10-22_13-00_Dashboards_1&2_COVID19_swiss_data_pv.xlsx\n",
      "CPU times: user 1min 33s, sys: 558 ms, total: 1min 33s\n",
      "Wall time: 1min 37s\n"
     ]
    }
   ],
   "source": [
    "%%time\n",
    "df_bag_today = load_data()\n",
    "df_bag_yesterday = load_data(2)"
   ]
  },
  {
   "cell_type": "markdown",
   "metadata": {},
   "source": [
    "## Neue und bisherige Fälle / Tag"
   ]
  },
  {
   "cell_type": "code",
   "execution_count": null,
   "metadata": {},
   "outputs": [],
   "source": [
    "df = df_bag_today.copy()\n",
    "index = pd.MultiIndex.from_frame(df[['case_date', 'canton', 'age_class', 'sex']])\n",
    "df.set_index(index, inplace=True)\n",
    "df = df.drop(['date', 'time', 'case_date', 'country', 'canton', 'age_class', 'sex', 'date_deceased', 'new_deceased'], axis=1).reset_index()\n",
    "df = df.groupby(['case_date', 'canton', 'age_class', 'sex']).sum().reset_index()\n",
    "\n",
    "\n",
    "df_ytd = df_bag_yesterday.copy()\n",
    "index = pd.MultiIndex.from_frame(df_ytd[['case_date', 'canton', 'age_class', 'sex']])\n",
    "df_ytd.set_index(index, inplace=True)\n",
    "df_ytd = df_ytd.drop(['date', 'time', 'case_date', 'country', 'canton', 'age_class', 'sex', 'date_deceased', 'new_deceased'], axis=1).reset_index()\n",
    "df_ytd = df_ytd.groupby(['case_date', 'canton', 'age_class', 'sex']).sum().reset_index()\n",
    "df_ytd.rename(columns = {'new_conf': 'new_conf_ytd'}, inplace=True)\n",
    "\n",
    "df = df.merge(df_ytd, how='left', on=['case_date', 'canton', 'age_class', 'sex'])"
   ]
  },
  {
   "cell_type": "markdown",
   "metadata": {},
   "source": [
    "### Neue Fälle innerhalb der letzten 24 h - ganze Schweiz"
   ]
  },
  {
   "cell_type": "code",
   "execution_count": null,
   "metadata": {},
   "outputs": [
    {
     "data": {
      "text/plain": [
       "6634"
      ]
     },
     "execution_count": null,
     "metadata": {},
     "output_type": "execute_result"
    }
   ],
   "source": [
    "df.new_conf.sum() - df_ytd.new_conf_ytd.sum()"
   ]
  },
  {
   "cell_type": "markdown",
   "metadata": {},
   "source": [
    "### Neue Fälle innerhalb der letzten 24 h pro Kanton"
   ]
  },
  {
   "cell_type": "code",
   "execution_count": null,
   "metadata": {},
   "outputs": [
    {
     "name": "stdout",
     "output_type": "stream",
     "text": [
      "AG: 291\n",
      "AI: 19\n",
      "AR: 38\n",
      "BE: 553\n",
      "BL: 90\n",
      "BS: 81\n",
      "FL: 42\n",
      "FR: 469\n",
      "GE: 950\n",
      "GL: 15\n",
      "GR: 116\n",
      "JU: 71\n",
      "LU: 186\n",
      "NE: 204\n",
      "NW: 20\n",
      "OW: 7\n",
      "SG: 382\n",
      "SH: 24\n",
      "SO: 97\n",
      "SZ: 148\n",
      "TG: 147\n",
      "TI: 266\n",
      "UR: 18\n",
      "VD: 873\n",
      "VS: 618\n",
      "ZG: 64\n",
      "ZH: 845\n"
     ]
    }
   ],
   "source": [
    "for c in CANTONS.values():\n",
    "    new_conf_24 = int(df.new_conf[df.canton == c].sum() - df.new_conf_ytd[df.canton == c].sum())\n",
    "    print(f'{c}: {new_conf_24}')"
   ]
  },
  {
   "cell_type": "markdown",
   "metadata": {},
   "source": [
    "### Neue Fälle im 7d-Schnitt - ganze Schweiz"
   ]
  },
  {
   "cell_type": "code",
   "execution_count": null,
   "metadata": {},
   "outputs": [
    {
     "name": "stdout",
     "output_type": "stream",
     "text": [
      "start_date = 2020-10-18\n",
      "end_date = 2020-10-24\n"
     ]
    },
    {
     "data": {
      "text/plain": [
       "2998.285714285714"
      ]
     },
     "execution_count": null,
     "metadata": {},
     "output_type": "execute_result"
    }
   ],
   "source": [
    "# how many days before totay used as end_date\n",
    "end_date_offset = 3\n",
    "# a number >= 1, 1 means consider just one day i.e. the end_date\n",
    "day_window = 7\n",
    "\n",
    "end_date = datetime.today() - timedelta(days = end_date_offset)\n",
    "start_date = end_date - timedelta(days = (day_window - 1))\n",
    "start_date = start_date.strftime('%Y-%m-%d')\n",
    "end_date = end_date.strftime('%Y-%m-%d')\n",
    "print(f'start_date = {start_date}')\n",
    "print(f'end_date = {end_date}')\n",
    "\n",
    "df.new_conf[(df.case_date >= start_date) & (df.case_date <= end_date)].sum() / day_window"
   ]
  },
  {
   "cell_type": "markdown",
   "metadata": {},
   "source": [
    "### Neue Fälle im 7d-Schnitt / Kanton"
   ]
  },
  {
   "cell_type": "code",
   "execution_count": null,
   "metadata": {},
   "outputs": [
    {
     "name": "stdout",
     "output_type": "stream",
     "text": [
      "AG: 130.1\n",
      "AI: 9.6\n",
      "AR: 18.9\n",
      "BE: 271.7\n",
      "BL: 41.6\n",
      "BS: 36.4\n",
      "FL: 14.9\n",
      "FR: 193.6\n",
      "GE: 381.3\n",
      "GL: 7.0\n",
      "GR: 44.6\n",
      "JU: 37.9\n",
      "LU: 104.1\n",
      "NE: 93.4\n",
      "NW: 8.9\n",
      "OW: 4.3\n",
      "SG: 174.4\n",
      "SH: 11.7\n",
      "SO: 45.6\n",
      "SZ: 69.0\n",
      "TG: 63.7\n",
      "TI: 111.9\n",
      "UR: 7.7\n",
      "VD: 404.3\n",
      "VS: 294.0\n",
      "ZG: 35.4\n",
      "ZH: 382.4\n"
     ]
    }
   ],
   "source": [
    "for c in CANTONS.values():\n",
    "    new_conf_7d_avg = np.round(df.new_conf[(df.canton == c) & (df.case_date >= start_date) & (df.case_date <= end_date)].sum() / day_window, 1)\n",
    "    print(f'{c}: {new_conf_7d_avg}')"
   ]
  },
  {
   "cell_type": "code",
   "execution_count": null,
   "metadata": {},
   "outputs": [],
   "source": [
    "### Neue Fälle im 7d-Schnitt pro 100'000 Einwohner und Kanton"
   ]
  },
  {
   "cell_type": "code",
   "execution_count": null,
   "metadata": {},
   "outputs": [],
   "source": [
    "df_pop = pd.read_excel('Population_Size_BFS.xlsx')\n",
    "df_pop = df_pop.rename(columns = {'ktn': 'canton'})"
   ]
  },
  {
   "cell_type": "code",
   "execution_count": null,
   "metadata": {},
   "outputs": [
    {
     "name": "stdout",
     "output_type": "stream",
     "text": [
      "AG: 19.2\n",
      "AI: 59.3\n",
      "AR: 34.1\n",
      "BE: 26.3\n",
      "BL: 14.4\n",
      "BS: 18.7\n",
      "FL: 38.7\n",
      "FR: 60.7\n",
      "GE: 76.3\n",
      "GL: 17.3\n",
      "GR: 22.5\n",
      "JU: 51.6\n",
      "LU: 25.4\n",
      "NE: 52.8\n",
      "NW: 20.5\n",
      "OW: 11.3\n",
      "SG: 34.4\n",
      "SH: 14.3\n",
      "SO: 16.7\n",
      "SZ: 43.4\n",
      "TG: 23.0\n",
      "TI: 31.7\n",
      "UR: 21.2\n",
      "VD: 50.6\n",
      "VS: 85.5\n",
      "ZG: 27.9\n",
      "ZH: 25.1\n"
     ]
    }
   ],
   "source": [
    "for c in CANTONS.values():\n",
    "    new_conf_7d_avg = df.new_conf[(df.canton == c) & (df.case_date >= start_date) & (df.case_date <= end_date)].sum() / day_window\n",
    "    new_conf_7d_avg = np.round(new_conf_7d_avg * 100000 / df_pop[df_pop.canton == c].pop_size.sum(), 1)\n",
    "    print(f'{c}: {new_conf_7d_avg}')"
   ]
  },
  {
   "cell_type": "code",
   "execution_count": null,
   "metadata": {},
   "outputs": [
    {
     "data": {
      "text/plain": [
       "678207"
      ]
     },
     "execution_count": null,
     "metadata": {},
     "output_type": "execute_result"
    }
   ],
   "source": [
    "df_pop[df_pop.canton == 'AG'].pop_size.sum()"
   ]
  },
  {
   "cell_type": "code",
   "execution_count": null,
   "metadata": {},
   "outputs": [],
   "source": []
  }
 ],
 "metadata": {
  "kernelspec": {
   "display_name": "dash-sample-app",
   "language": "python",
   "name": "dash-sample-app"
  }
 },
 "nbformat": 4,
 "nbformat_minor": 4
}
